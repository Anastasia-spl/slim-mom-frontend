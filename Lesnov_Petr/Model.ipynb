{
  "nbformat": 4,
  "nbformat_minor": 0,
  "metadata": {
    "colab": {
      "provenance": [],
      "authorship_tag": "ABX9TyPqGmCNQCoXg55nZc0gv980",
      "include_colab_link": true
    },
    "kernelspec": {
      "name": "python3",
      "display_name": "Python 3"
    },
    "language_info": {
      "name": "python"
    }
  },
  "cells": [
    {
      "cell_type": "markdown",
      "metadata": {
        "id": "view-in-github",
        "colab_type": "text"
      },
      "source": [
        "<a href=\"https://colab.research.google.com/github/Anastasia-spl/slim-mom-frontend/blob/master/Lesnov_Petr/Model.ipynb\" target=\"_parent\"><img src=\"https://colab.research.google.com/assets/colab-badge.svg\" alt=\"Open In Colab\"/></a>"
      ]
    },
    {
      "cell_type": "markdown",
      "source": [
        "### Подключение библиотек для обучение AI"
      ],
      "metadata": {
        "id": "TwkIcSr2yZqd"
      }
    },
    {
      "cell_type": "code",
      "source": [
        "# Основа для модели нейронной сети\n",
        "from tensorflow.keras.models import Model\n",
        "\n",
        "# Стандартные слои keras\n",
        "from tensorflow.keras.layers import Input, Conv3DTranspose, concatenate, Activation, MaxPooling3D, Conv3D, BatchNormalization, Dropout\n",
        "\n",
        "# Оптимизатор Adam\n",
        "from tensorflow.keras.optimizers import Adam\n",
        "\n",
        "# Дополнительные утилиты keras\n",
        "from tensorflow.keras import utils\n",
        "\n",
        "# Инструменты для построения графиков\n",
        "import matplotlib.pyplot as plt\n",
        "\n",
        "# Инструменты для работы с изображениями\n",
        "from tensorflow.keras.preprocessing import image\n",
        "\n",
        "# Инструменты для работы с массивами\n",
        "import numpy as np\n",
        "\n",
        "# Системные инструменты\n",
        "import time, random, gdown, os, gc, shutil\n",
        "\n",
        "# Дополнительные инструменты визуализации\n",
        "import seaborn as sns\n",
        "sns.set_style('darkgrid')\n",
        "\n",
        "from google.colab import drive\n",
        "drive.mount('/content/gdrive')\n",
        "\n",
        "import h5py"
      ],
      "metadata": {
        "id": "TCV3n1gJmaub",
        "colab": {
          "base_uri": "https://localhost:8080/"
        },
        "outputId": "7ab33dfb-bb32-489f-fd22-23f1242813ac"
      },
      "execution_count": 2,
      "outputs": [
        {
          "output_type": "stream",
          "name": "stdout",
          "text": [
            "Drive already mounted at /content/gdrive; to attempt to forcibly remount, call drive.mount(\"/content/gdrive\", force_remount=True).\n"
          ]
        }
      ]
    },
    {
      "cell_type": "markdown",
      "source": [
        "### Создание модели"
      ],
      "metadata": {
        "id": "v19DlIs9yyjh"
      }
    },
    {
      "cell_type": "code",
      "source": [
        "def standardize(image):\n",
        "  standardize_image = np.zeros(image.shape)\n",
        "\n",
        "  for z in range(2):\n",
        "    image_slice = image[:,:,z]\n",
        "    print(np.mean(image_slice))\n",
        "\n",
        "    centered = image_slice - np.mean(image_slice)\n",
        "\n",
        "    if(np.std(centered)!=0):\n",
        "      centered = centered/np.std(centered)\n",
        "\n",
        "    standardize_image[:,:,z] = centered\n",
        "\n",
        "    return standardize_image"
      ],
      "metadata": {
        "id": "5YBf9CvQy4X1"
      },
      "execution_count": 3,
      "outputs": []
    },
    {
      "cell_type": "code",
      "source": [
        "def conv_block(input_data, filters, batch_norm):\n",
        "  x = Conv3D(filters,(3,3,3), padding=\"same\", strides = (1,1,1))(input_data)\n",
        "  if batch_norm:\n",
        "    x = BatchNormalization()(x)\n",
        "  x = Activation('relu')(x)\n",
        "\n",
        "  x = Conv3D(filters,(3,3,3), padding=\"same\", strides = (1,1,1))(x)\n",
        "  if batch_norm:\n",
        "    x = BatchNormalization()(x)\n",
        "  x = Activation('relu')(x)\n",
        "\n",
        "  return x\n",
        "\n",
        "def Unet_3d(input_img, filters = 8, dropout = 0.2, batch_norm = True):\n",
        "  c1 = conv_block(input_img, filters, batch_norm)\n",
        "  p1 = MaxPooling3D(pool_size=(2,2,2), stridez=2)(c1)\n",
        "  p1 = Dropout(dropout)(p1)\n",
        "\n",
        "  c2 = conv_block(p1,filters*2,batch_norm)\n",
        "  p2 = MaxPooling3D(pool_size=(2,2,2), stridez=2)(c2)\n",
        "  p2 = Dropout(dropout)(p2)\n",
        "\n",
        "  c3 = conv_block(p2,filters*4,batch_norm)\n",
        "  p3 = MaxPooling3D(pool_size=(2,2,2), stridez=2)(c3)\n",
        "  p3 = Dropout(dropout)(p3)\n",
        "\n",
        "  c4 = conv_block(p3,filters*8,batch_norm)\n",
        "  p4 = MaxPooling3D(pool_size=(2,2,2), stridez=2)(c4)\n",
        "  p4 = Dropout(dropout)(p4)\n",
        "\n",
        "  c5 = conv_block(c4, filters*16, batch_norm)\n",
        "\n",
        "  u6 = Conv3DTranspose(filters*8, (3,3,3), strides = (2,2,2), padding = \"same\")(c5)\n",
        "  u6 = concatenate([u6,c4])\n",
        "  c6 = conv_block(u6, filters*8, batch_norm)\n",
        "  c6 = Dropout(dropout)(c6)\n",
        "\n",
        "  u7 = Conv3DTranspose(filters*4, (3,3,3), strides = (2,2,2), padding = \"same\")(c6)\n",
        "  u7 = concatenate([u7,c3])\n",
        "  c7 = conv_block(u7, filters*4, batch_norm)\n",
        "  c7 = Dropout(dropout)(c7)\n",
        "\n",
        "  u8 = Conv3DTranspose(filters*2, (3,3,3), strides = (2,2,2), padding = \"same\")(c7)\n",
        "  u8 = concatenate([u8,c2])\n",
        "  c8 = conv_block(u8, filters*2, batch_norm)\n",
        "  c8 = Dropout(dropout)(c8)\n",
        "\n",
        "  u9 = Conv3DTranspose(filters, (3,3,3), strides = (2,2,2), padding = \"same\")(c8)\n",
        "  u9 = concatenate([u9,c1])\n",
        "  c9 = conv_block(u9,filters, batch_norm)\n",
        "\n",
        "  outputs = Conv3D(2, (1,1,1), activation = 'sigmoid')(c9)\n",
        "\n",
        "  print(120*'-')\n",
        "  print(outputs.shape)\n",
        "\n",
        "  model = Model(inputs=input_img, outputs=outputs)\n",
        "\n",
        "  return model"
      ],
      "metadata": {
        "id": "g3dpOq_Jy8rh"
      },
      "execution_count": 4,
      "outputs": []
    }
  ]
}